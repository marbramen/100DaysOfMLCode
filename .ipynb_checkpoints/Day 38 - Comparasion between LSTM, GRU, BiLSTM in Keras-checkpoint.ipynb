{
 "cells": [
  {
   "cell_type": "markdown",
   "metadata": {},
   "source": [
    "### LSTM, GRU, BiLSTM in keras"
   ]
  },
  {
   "cell_type": "code",
   "execution_count": null,
   "metadata": {},
   "outputs": [],
   "source": []
  },
  {
   "cell_type": "code",
   "execution_count": 2,
   "metadata": {},
   "outputs": [
    {
     "name": "stdout",
     "output_type": "stream",
     "text": [
      "Loading data...\n",
      "25000 train sequences\n",
      "25000 test sequences\n",
      "Pad sequences (samples x time)\n",
      "input_train shape: (25000, 500)\n",
      "input_test shape: (25000, 500)\n",
      "[   0    0    0    0    0    0    0    0    0    0    0    0    0    0\n",
      "    0    0    0    0    0    0    0    0    0    0    0    0    0    0\n",
      "    0    0    0    0    0    0    0    0    0    0    0    0    0    0\n",
      "    0    0    0    0    0    0    0    0    0    0    0    0    0    0\n",
      "    0    0    0    0    0    0    0    0    0    0    0    0    0    0\n",
      "    0    0    0    0    0    0    0    0    0    0    0    0    0    0\n",
      "    0    0    0    0    0    0    0    0    0    0    0    0    0    0\n",
      "    0    0    0    0    0    0    0    0    0    0    0    0    0    0\n",
      "    0    0    0    0    0    0    0    0    0    0    0    0    0    0\n",
      "    0    0    0    0    0    0    0    0    0    0    0    0    0    0\n",
      "    0    0    0    0    0    0    0    0    0    0    0    0    0    0\n",
      "    0    0    0    0    0    0    0    0    0    0    0    0    0    0\n",
      "    0    0    0    0    0    0    0    0    0    0    0    0    0    0\n",
      "    0    0    0    0    0    0    0    0    0    0    0    0    0    0\n",
      "    0    0    0    0    0    0    0    0    0    0    0    0    0    0\n",
      "    0    0    0    0    0    0    0    0    0    0    0    0    0    0\n",
      "    0    0    0    0    0    0    0    0    0    0    0    0    0    0\n",
      "    0    0    0    0    0    0    0    0    0    0    0    0    0    0\n",
      "    0    0    0    0    0    0    0    0    0    0    0    0    0    0\n",
      "    0    0    0    0    0    0    0    0    0    0    0    0    0    0\n",
      "    0    0    0    0    0    0    0    0    0    0    0    0    0    0\n",
      "    0    0    0    0    0    0    0    0    0    0    0    0    0    0\n",
      "    0    0    0    1  194 1153  194 8255   78  228    5    6 1463 4369\n",
      " 5012  134   26    4  715    8  118 1634   14  394   20   13  119  954\n",
      "  189  102    5  207  110 3103   21   14   69  188    8   30   23    7\n",
      "    4  249  126   93    4  114    9 2300 1523    5  647    4  116    9\n",
      "   35 8163    4  229    9  340 1322    4  118    9    4  130 4901   19\n",
      "    4 1002    5   89   29  952   46   37    4  455    9   45   43   38\n",
      " 1543 1905  398    4 1649   26 6853    5  163   11 3215    2    4 1153\n",
      "    9  194  775    7 8255    2  349 2637  148  605    2 8003   15  123\n",
      "  125   68    2 6853   15  349  165 4362   98    5    4  228    9   43\n",
      "    2 1157   15  299  120    5  120  174   11  220  175  136   50    9\n",
      " 4373  228 8255    5    2  656  245 2350    5    4 9837  131  152  491\n",
      "   18    2   32 7464 1212   14    9    6  371   78   22  625   64 1382\n",
      "    9    8  168  145   23    4 1690   15   16    4 1355    5   28    6\n",
      "   52  154  462   33   89   78  285   16  145   95]\n"
     ]
    }
   ],
   "source": [
    "from keras.datasets import imdb\n",
    "from keras.preprocessing import sequence\n",
    "\n",
    "max_features = 10000\n",
    "maxlen = 500\n",
    "batch_size = 32\n",
    "\n",
    "print('Loading data...')\n",
    "(input_train, y_train), (input_test, y_test) = imdb.load_data(num_words=max_features)\n",
    "\n",
    "print(len(input_train), 'train sequences')\n",
    "print(len(input_test), 'test sequences')\n",
    "\n",
    "print('Pad sequences (samples x time)')\n",
    "input_train = sequence.pad_sequences(input_train, maxlen=maxlen)\n",
    "input_test = sequence.pad_sequences(input_test, maxlen=maxlen)\n",
    "\n",
    "print('input_train shape:', input_train.shape)\n",
    "print('input_test shape:', input_test.shape)"
   ]
  },
  {
   "cell_type": "code",
   "execution_count": 19,
   "metadata": {},
   "outputs": [
    {
     "name": "stderr",
     "output_type": "stream",
     "text": [
      "/home/marchelo/anaconda3/envs/ml.tools/lib/python3.5/site-packages/ipykernel_launcher.py:16: UserWarning: Update your `Model` call to the Keras 2 API: `Model(outputs=sigmoid.0, inputs=dense laye...)`\n",
      "  app.launch_new_instance()\n"
     ]
    },
    {
     "name": "stdout",
     "output_type": "stream",
     "text": [
      "\n",
      "\n",
      "-- LSTM model --\n",
      "_________________________________________________________________\n",
      "Layer (type)                 Output Shape              Param #   \n",
      "=================================================================\n",
      "input_layer (InputLayer)     (None, 500)               0         \n",
      "_________________________________________________________________\n",
      "embedding layer (Embedding)  (None, 500, 32)           320000    \n",
      "_________________________________________________________________\n",
      "lstm layer (LSTM)            (None, 32)                8320      \n",
      "_________________________________________________________________\n",
      "dense layer (Dense)          (None, 1)                 33        \n",
      "=================================================================\n",
      "Total params: 328,353\n",
      "Trainable params: 328,353\n",
      "Non-trainable params: 0\n",
      "_________________________________________________________________\n",
      "None\n",
      "\n",
      "\n",
      "-- GRU model --\n",
      "_________________________________________________________________\n",
      "Layer (type)                 Output Shape              Param #   \n",
      "=================================================================\n",
      "input_layer (InputLayer)     (None, 500)               0         \n",
      "_________________________________________________________________\n",
      "embedding layer (Embedding)  (None, 500, 32)           320000    \n",
      "_________________________________________________________________\n",
      "gru layer (GRU)              (None, 32)                6240      \n",
      "_________________________________________________________________\n",
      "dense layer (Dense)          (None, 1)                 33        \n",
      "=================================================================\n"
     ]
    },
    {
     "name": "stderr",
     "output_type": "stream",
     "text": [
      "/home/marchelo/anaconda3/envs/ml.tools/lib/python3.5/site-packages/ipykernel_launcher.py:24: UserWarning: Update your `Model` call to the Keras 2 API: `Model(outputs=sigmoid.0, inputs=dense laye...)`\n"
     ]
    },
    {
     "name": "stdout",
     "output_type": "stream",
     "text": [
      "Total params: 326,273\n",
      "Trainable params: 326,273\n",
      "Non-trainable params: 0\n",
      "_________________________________________________________________\n",
      "None\n",
      "\n",
      "\n",
      "-- BiLSTM model --\n",
      "_________________________________________________________________\n",
      "Layer (type)                 Output Shape              Param #   \n",
      "=================================================================\n",
      "input_layer (InputLayer)     (None, 500)               0         \n",
      "_________________________________________________________________\n"
     ]
    },
    {
     "name": "stderr",
     "output_type": "stream",
     "text": [
      "/home/marchelo/anaconda3/envs/ml.tools/lib/python3.5/site-packages/ipykernel_launcher.py:32: UserWarning: Update your `Model` call to the Keras 2 API: `Model(outputs=sigmoid.0, inputs=dense laye...)`\n"
     ]
    },
    {
     "name": "stdout",
     "output_type": "stream",
     "text": [
      "embedding layer (Embedding)  (None, 500, 32)           320000    \n",
      "_________________________________________________________________\n",
      "bidirectional_15 (Bidirectio (None, 32)                6272      \n",
      "_________________________________________________________________\n",
      "dense layer (Dense)          (None, 1)                 33        \n",
      "=================================================================\n",
      "Total params: 326,305\n",
      "Trainable params: 326,305\n",
      "Non-trainable params: 0\n",
      "_________________________________________________________________\n",
      "None\n",
      "\n",
      "\n",
      "--BiGRU model --\n",
      "_________________________________________________________________\n",
      "Layer (type)                 Output Shape              Param #   \n",
      "=================================================================\n",
      "input_layer (InputLayer)     (None, 500)               0         \n",
      "_________________________________________________________________\n",
      "embedding layer (Embedding)  (None, 500, 32)           320000    \n",
      "_________________________________________________________________\n",
      "bidirectional_16 (Bidirectio (None, 32)                12480     \n",
      "_________________________________________________________________\n",
      "dense layer (Dense)          (None, 1)                 33        \n",
      "=================================================================\n",
      "Total params: 332,513\n",
      "Trainable params: 332,513\n",
      "Non-trainable params: 0\n",
      "_________________________________________________________________\n",
      "None\n"
     ]
    },
    {
     "name": "stderr",
     "output_type": "stream",
     "text": [
      "/home/marchelo/anaconda3/envs/ml.tools/lib/python3.5/site-packages/ipykernel_launcher.py:40: UserWarning: Update your `Model` call to the Keras 2 API: `Model(outputs=sigmoid.0, inputs=dense laye...)`\n"
     ]
    }
   ],
   "source": [
    "from keras.models import Model\n",
    "from keras.layers import Dense, Embedding, SimpleRNN, Input, LSTM, GRU, Bidirectional\n",
    "from keras.utils import plot_model\n",
    "import matplotlib.image as mpimg\n",
    "import matplotlib.pyplot as plt\n",
    "\n",
    "## common layers\n",
    "input_layer = Input(shape=(maxlen, ), name='input_layer')\n",
    "embedding_layer = Embedding(max_features, 32, input_length=maxlen, name='embedding layer')(input_layer)\n",
    "dense_layer = Dense(1, activation='sigmoid', name='dense layer')\n",
    "\n",
    "# lstm model\n",
    "lstm_layer = LSTM(32, name='lstm layer')(embedding_layer)\n",
    "output_lstm = dense_layer(lstm_layer)\n",
    "\n",
    "model_lstm = Model(inputs=input_layer, output=output_lstm)\n",
    "print(\"\\n\\n-- LSTM model --\")\n",
    "print(model_lstm.summary())\n",
    "\n",
    "# gru model\n",
    "gru_layer = GRU(32, name='gru layer')(embedding_layer)\n",
    "output_gru = dense_layer(gru_layer)\n",
    "\n",
    "model_gru = Model(inputs=input_layer, output=output_gru)\n",
    "print(\"\\n\\n-- GRU model --\")\n",
    "print(model_gru.summary())\n",
    "\n",
    "# BiLSTM model\n",
    "bilstm_layer = Bidirectional(LSTM(16, name='bilstm_layer'))(embedding_layer)\n",
    "output_bilstm = dense_layer(bilstm_layer)\n",
    "\n",
    "model_bilstm = Model(inputs=input_layer, output=output_bilstm)\n",
    "print(\"\\n\\n-- BiLSTM model --\")\n",
    "print(model_bilstm.summary())\n",
    "\n",
    "# BiGRU model\n",
    "bigru_layer = Bidirectional(GRU(32, name=\"bigru_layer\"), merge_mode='ave')(embedding_layer)\n",
    "output_bigru = dense_layer(bigru_layer)\n",
    "\n",
    "model_bigru = Model(inputs=input_layer, output=output_bigru)\n",
    "print(\"\\n\\n--BiGRU model --\")\n",
    "print(model_bigru.summary())\n"
   ]
  },
  {
   "cell_type": "code",
   "execution_count": 20,
   "metadata": {},
   "outputs": [
    {
     "data": {
      "image/png": "[encoded data removed]",
      "text/plain": [
       "<Figure size 432x288 with 1 Axes>"
      ]
     },
     "metadata": {},
     "output_type": "display_data"
    },
    {
     "data": {
      "image/png": "[encoded data removed]",
      "text/plain": [
       "<Figure size 432x288 with 1 Axes>"
      ]
     },
     "metadata": {},
     "output_type": "display_data"
    },
    {
     "data": {
      "image/png": "[encoded data removed]",
      "text/plain": [
       "<Figure size 432x288 with 1 Axes>"
      ]
     },
     "metadata": {},
     "output_type": "display_data"
    },
    {
     "data": {
      "image/png": "[encoded data removed]",
      "text/plain": [
       "<Figure size 432x288 with 1 Axes>"
      ]
     },
     "metadata": {},
     "output_type": "display_data"
    }
   ],
   "source": [
    "# plot graph\n",
    "plot_model(model_lstm, to_file='imag_6.24_LSTM&IMDB.png')\n",
    "image = mpimg.imread('./imag_6.24_LSTM&IMDB.png')\n",
    "plt.imshow(image)\n",
    "plt.legend(\"LSTM model\")\n",
    "plt.show()\n",
    "\n",
    "plt.figure()\n",
    "plot_model(model_gru, to_file='imag_6.24_GRU&IMDB.png')\n",
    "image = mpimg.imread('./imag_6.24_GRU&IMDB.png')\n",
    "plt.imshow(image)\n",
    "plt.legend(\"GRU model\")\n",
    "plt.show()\n",
    "\n",
    "plt.figure()\n",
    "plot_model(model_bilstm, to_file='imag_6.24_biLSTM&IMDB.png')\n",
    "image = mpimg.imread('./imag_6.24_biLSTM&IMDB.png')\n",
    "plt.imshow(image)\n",
    "plt.legend(\"BiLSTM model\")\n",
    "plt.show()\n",
    "\n",
    "plt.figure()\n",
    "plot_model(model_bigru, to_file='imag_6.24_biGRU&IMDB.png')\n",
    "image = mpimg.imread('./imag_6.24_biGRU&IMDB.png')\n",
    "plt.imshow(image)\n",
    "plt.legend(\"BiLSTM model\")\n",
    "plt.show()"
   ]
  },
  {
   "cell_type": "code",
   "execution_count": null,
   "metadata": {},
   "outputs": [
    {
     "name": "stdout",
     "output_type": "stream",
     "text": [
      "Train on 20000 samples, validate on 5000 samples\n",
      "Epoch 1/10\n",
      "20000/20000 [==============================] - 47s 2ms/step - loss: 0.5211 - acc: 0.7540 - val_loss: 0.3939 - val_acc: 0.8430\n",
      "Epoch 2/10\n",
      "20000/20000 [==============================] - 47s 2ms/step - loss: 0.3070 - acc: 0.8777 - val_loss: 0.2899 - val_acc: 0.8810\n",
      "Epoch 3/10\n",
      "20000/20000 [==============================] - 47s 2ms/step - loss: 0.2401 - acc: 0.9081 - val_loss: 0.5595 - val_acc: 0.7816\n",
      "Epoch 4/10\n",
      "20000/20000 [==============================] - 47s 2ms/step - loss: 0.2086 - acc: 0.9239 - val_loss: 0.5033 - val_acc: 0.8282\n",
      "Epoch 5/10\n",
      "20000/20000 [==============================] - 49s 2ms/step - loss: 0.1834 - acc: 0.9343 - val_loss: 0.3129 - val_acc: 0.8884\n",
      "Epoch 6/10\n",
      "20000/20000 [==============================] - 48s 2ms/step - loss: 0.1616 - acc: 0.9425 - val_loss: 0.3446 - val_acc: 0.8670\n",
      "Epoch 7/10\n",
      "20000/20000 [==============================] - 48s 2ms/step - loss: 0.1476 - acc: 0.9476 - val_loss: 0.3939 - val_acc: 0.8406\n",
      "Epoch 8/10\n",
      "19584/20000 [============================>.] - ETA: 0s - loss: 0.1315 - acc: 0.9537"
     ]
    }
   ],
   "source": [
    "model_lstm.compile(optimizer='rmsprop', loss='binary_crossentropy', metrics=['acc'])\n",
    "history_simpleLSTM = model_lstm.fit(input_train, y_train, epochs=10, \n",
    "                    batch_size=128, validation_split=0.2)\n"
   ]
  },
  {
   "cell_type": "code",
   "execution_count": null,
   "metadata": {},
   "outputs": [],
   "source": [
    "model_gru.compile(optimizer='rmsprop', loss='binary_crossentropy', metrics=['acc'])\n",
    "history_simpleLSTM = model_gru.fit(input_train, y_train, epochs=10, \n",
    "                    batch_size=128, validation_split=0.2)"
   ]
  },
  {
   "cell_type": "code",
   "execution_count": null,
   "metadata": {},
   "outputs": [],
   "source": [
    "model_bilstm.compile(optimizer='rmsprop', loss='binary_crossentropy', metrics=['acc'])\n",
    "history_simpleLSTM = model_bilstm.fit(input_train, y_train, epochs=10, \n",
    "                    batch_size=128, validation_split=0.2)"
   ]
  },
  {
   "cell_type": "code",
   "execution_count": null,
   "metadata": {},
   "outputs": [],
   "source": [
    "model_bigru.compile(optimizer='rmsprop', loss='binary_crossentropy', metrics=['acc'])\n",
    "history_simpleLSTM = model_bigru.fit(input_train, y_train, epochs=10, \n",
    "                    batch_size=128, validation_split=0.2)"
   ]
  },
  {
   "cell_type": "code",
   "execution_count": null,
   "metadata": {},
   "outputs": [],
   "source": [
    "test_dir = os.path.join(imdb_dir, 'test')\n",
    "\n",
    "labels = []\n",
    "texts = []\n",
    "\n",
    "for label_type in ['neg', 'pos']:\n",
    "    dir_name = os.path.join(test_dir, label_type)\n",
    "    for fname in sorted(os.listdir(dir_name)):\n",
    "        if fname[-4:] == '.txt':\n",
    "            f = open(os.path.join(dir_name, fname))\n",
    "            texts.append(f.read())\n",
    "            f.close()\n",
    "            if label_type == 'neg':\n",
    "                labels.append(0)\n",
    "            else:\n",
    "                labels.append(1)\n",
    "                \n",
    "sequences = tokenizer.texts_to_sequences(texts)\n",
    "x_test = pad_sequences(sequences, maxlen=maxlen)\n",
    "y_test = np.asarray(labels)"
   ]
  },
  {
   "cell_type": "code",
   "execution_count": null,
   "metadata": {},
   "outputs": [],
   "source": [
    "print(\"lstm model\")\n",
    "model_lstm.evaluate(x_test, y_test)"
   ]
  },
  {
   "cell_type": "code",
   "execution_count": null,
   "metadata": {},
   "outputs": [],
   "source": [
    "print(\"gru model\")\n",
    "model_gru.evaluate(x_test, y_test)"
   ]
  },
  {
   "cell_type": "code",
   "execution_count": null,
   "metadata": {},
   "outputs": [],
   "source": [
    "print(\"Bilstm model\")\n",
    "model_bilstm.evaluate(x_test, y_test)"
   ]
  },
  {
   "cell_type": "code",
   "execution_count": null,
   "metadata": {},
   "outputs": [],
   "source": [
    "print(\"Bigru model\")\n",
    "model_bigru.evaluate(x_test, y_test)"
   ]
  }
 ],
 "metadata": {
  "kernelspec": {
   "display_name": "Python (ml.tools)",
   "language": "python",
   "name": "ml.tools"
  },
  "language_info": {
   "codemirror_mode": {
    "name": "ipython",
    "version": 3
   },
   "file_extension": ".py",
   "mimetype": "text/x-python",
   "name": "python",
   "nbconvert_exporter": "python",
   "pygments_lexer": "ipython3",
   "version": "3.5.5"
  }
 },
 "nbformat": 4,
 "nbformat_minor": 2
}
