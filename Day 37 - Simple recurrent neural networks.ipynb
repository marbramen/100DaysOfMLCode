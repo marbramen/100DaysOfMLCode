{
 "cells": [
  {
   "cell_type": "markdown",
   "metadata": {},
   "source": [
    "### RNN in keras"
   ]
  },
  {
   "cell_type": "code",
   "execution_count": 2,
   "metadata": {},
   "outputs": [
    {
     "name": "stdout",
     "output_type": "stream",
     "text": [
      "Loading data...\n",
      "25000 train sequences\n",
      "25000 test sequences\n",
      "Pad sequences (samples x time)\n",
      "input_train shape: (25000, 500)\n",
      "input_test shape: (25000, 500)\n",
      "[   0    0    0    0    0    0    0    0    0    0    0    0    0    0\n",
      "    0    0    0    0    0    0    0    0    0    0    0    0    0    0\n",
      "    0    0    0    0    0    0    0    0    0    0    0    0    0    0\n",
      "    0    0    0    0    0    0    0    0    0    0    0    0    0    0\n",
      "    0    0    0    0    0    0    0    0    0    0    0    0    0    0\n",
      "    0    0    0    0    0    0    0    0    0    0    0    0    0    0\n",
      "    0    0    0    0    0    0    0    0    0    0    0    0    0    0\n",
      "    0    0    0    0    0    0    0    0    0    0    0    0    0    0\n",
      "    0    0    0    0    0    0    0    0    0    0    0    0    0    0\n",
      "    0    0    0    0    0    0    0    0    0    0    0    0    0    0\n",
      "    0    0    0    0    0    0    0    0    0    0    0    0    0    0\n",
      "    0    0    0    0    0    0    0    0    0    0    0    0    0    0\n",
      "    0    0    0    0    0    0    0    0    0    0    0    0    0    0\n",
      "    0    0    0    0    0    0    0    0    0    0    0    0    0    0\n",
      "    0    0    0    0    0    0    0    0    0    0    0    0    0    0\n",
      "    0    0    0    0    0    0    0    0    0    0    0    0    0    0\n",
      "    0    0    0    0    0    0    0    0    0    0    0    0    0    0\n",
      "    0    0    0    0    0    0    0    0    0    0    0    0    0    0\n",
      "    0    0    0    0    0    0    0    0    0    0    0    0    0    0\n",
      "    0    0    0    0    0    0    0    0    0    0    0    0    0    0\n",
      "    0    0    0    0    0    0    0    0    0    0    0    0    0    0\n",
      "    0    0    0    0    0    0    0    0    0    0    0    0    0    0\n",
      "    0    0    0    1  194 1153  194 8255   78  228    5    6 1463 4369\n",
      " 5012  134   26    4  715    8  118 1634   14  394   20   13  119  954\n",
      "  189  102    5  207  110 3103   21   14   69  188    8   30   23    7\n",
      "    4  249  126   93    4  114    9 2300 1523    5  647    4  116    9\n",
      "   35 8163    4  229    9  340 1322    4  118    9    4  130 4901   19\n",
      "    4 1002    5   89   29  952   46   37    4  455    9   45   43   38\n",
      " 1543 1905  398    4 1649   26 6853    5  163   11 3215    2    4 1153\n",
      "    9  194  775    7 8255    2  349 2637  148  605    2 8003   15  123\n",
      "  125   68    2 6853   15  349  165 4362   98    5    4  228    9   43\n",
      "    2 1157   15  299  120    5  120  174   11  220  175  136   50    9\n",
      " 4373  228 8255    5    2  656  245 2350    5    4 9837  131  152  491\n",
      "   18    2   32 7464 1212   14    9    6  371   78   22  625   64 1382\n",
      "    9    8  168  145   23    4 1690   15   16    4 1355    5   28    6\n",
      "   52  154  462   33   89   78  285   16  145   95]\n"
     ]
    }
   ],
   "source": [
    "from keras.datasets import imdb\n",
    "from keras.preprocessing import sequence\n",
    "\n",
    "max_features = 10000\n",
    "maxlen = 500\n",
    "batch_size = 32\n",
    "\n",
    "print('Loading data...')\n",
    "(input_train, y_train), (input_test, y_test) = imdb.load_data(num_words=max_features)\n",
    "\n",
    "print(len(input_train), 'train sequences')\n",
    "print(len(input_test), 'test sequences')\n",
    "\n",
    "print('Pad sequences (samples x time)')\n",
    "input_train = sequence.pad_sequences(input_train, maxlen=maxlen)\n",
    "input_test = sequence.pad_sequences(input_test, maxlen=maxlen)\n",
    "\n",
    "print('input_train shape:', input_train.shape)\n",
    "print('input_test shape:', input_test.shape)\n",
    "print(input_train[1])"
   ]
  },
  {
   "cell_type": "code",
   "execution_count": 5,
   "metadata": {},
   "outputs": [
    {
     "name": "stderr",
     "output_type": "stream",
     "text": [
      "/home/marchelo/anaconda3/envs/ml.tools/lib/python3.5/site-packages/ipykernel_launcher.py:13: UserWarning: Update your `Model` call to the Keras 2 API: `Model(inputs=/input_3, outputs=sigmoid.0)`\n",
      "  del sys.path[0]\n"
     ]
    },
    {
     "name": "stdout",
     "output_type": "stream",
     "text": [
      "_________________________________________________________________\n",
      "Layer (type)                 Output Shape              Param #   \n",
      "=================================================================\n",
      "input_3 (InputLayer)         (None, 500)               0         \n",
      "_________________________________________________________________\n",
      "embedding_3 (Embedding)      (None, 500, 32)           320000    \n",
      "_________________________________________________________________\n",
      "simple_rnn_3 (SimpleRNN)     (None, 32)                2080      \n",
      "_________________________________________________________________\n",
      "dense_3 (Dense)              (None, 1)                 33        \n",
      "=================================================================\n",
      "Total params: 322,113\n",
      "Trainable params: 322,113\n",
      "Non-trainable params: 0\n",
      "_________________________________________________________________\n",
      "None\n"
     ]
    },
    {
     "data": {
      "image/png": "[encoded data removed]",
      "text/plain": [
       "<Figure size 432x288 with 1 Axes>"
      ]
     },
     "metadata": {},
     "output_type": "display_data"
    }
   ],
   "source": [
    "from keras.models import Model\n",
    "from keras.layers import Dense, Embedding, SimpleRNN, Input\n",
    "from keras.utils import plot_model\n",
    "import matplotlib.image as mpimg\n",
    "import matplotlib.pyplot as plt\n",
    "\n",
    "input_l = Input(shape=(maxlen, ))\n",
    "embedding_l = Embedding(max_features, 32, input_length=maxlen)(input_l)\n",
    "rnn_l = SimpleRNN(32)(embedding_l)\n",
    "output_l = Dense(1, activation='sigmoid')(rnn_l)\n",
    "\n",
    "\n",
    "model = Model(inputs=input_l, output=output_l)\n",
    "print(model.summary())\n",
    "\n",
    "# plot graph\n",
    "plot_model(model, to_file='imag_6.23_simpleRNN&IMDB.png')\n",
    "image = mpimg.imread('./imag_6.23_simpleRNN&IMDB.png')\n",
    "plt.imshow(image)\n",
    "plt.show()\n"
   ]
  },
  {
   "cell_type": "code",
   "execution_count": null,
   "metadata": {},
   "outputs": [
    {
     "name": "stdout",
     "output_type": "stream",
     "text": [
      "Train on 20000 samples, validate on 5000 samples\n",
      "Epoch 1/10\n",
      "20000/20000 [==============================] - 11s 559us/step - loss: 0.1201 - acc: 0.9584 - val_loss: 0.4581 - val_acc: 0.8230\n",
      "Epoch 2/10\n",
      "20000/20000 [==============================] - 11s 557us/step - loss: 0.0700 - acc: 0.9777 - val_loss: 0.5193 - val_acc: 0.8010\n",
      "Epoch 3/10\n",
      "20000/20000 [==============================] - 11s 558us/step - loss: 0.0440 - acc: 0.9872 - val_loss: 0.5634 - val_acc: 0.8102\n",
      "Epoch 4/10\n",
      "20000/20000 [==============================] - 11s 558us/step - loss: 0.0291 - acc: 0.9915 - val_loss: 0.5743 - val_acc: 0.8308\n",
      "Epoch 5/10\n",
      "20000/20000 [==============================] - 11s 558us/step - loss: 0.0184 - acc: 0.9950 - val_loss: 0.6135 - val_acc: 0.8272\n",
      "Epoch 6/10\n",
      "20000/20000 [==============================] - 11s 557us/step - loss: 0.0167 - acc: 0.9950 - val_loss: 0.6403 - val_acc: 0.8300\n",
      "Epoch 7/10\n",
      "20000/20000 [==============================] - 11s 556us/step - loss: 0.0189 - acc: 0.9950 - val_loss: 0.6856 - val_acc: 0.8030\n",
      "Epoch 8/10\n",
      "20000/20000 [==============================] - 11s 560us/step - loss: 0.0086 - acc: 0.9980 - val_loss: 0.7350 - val_acc: 0.8158\n",
      "Epoch 9/10\n",
      "19712/20000 [============================>.] - ETA: 0s - loss: 0.0090 - acc: 0.9973"
     ]
    }
   ],
   "source": [
    "model.compile(optimizer='rmsprop', loss='binary_crossentropy', metrics=['acc'])\n",
    "history_simpleRNN = model.fit(input_train, y_train, epochs=10, \n",
    "                    batch_size=128, validation_split=0.2)\n"
   ]
  }
 ],
 "metadata": {
  "kernelspec": {
   "display_name": "Python (ml.tools)",
   "language": "python",
   "name": "ml.tools"
  },
  "language_info": {
   "codemirror_mode": {
    "name": "ipython",
    "version": 3
   },
   "file_extension": ".py",
   "mimetype": "text/x-python",
   "name": "python",
   "nbconvert_exporter": "python",
   "pygments_lexer": "ipython3",
   "version": "3.5.5"
  }
 },
 "nbformat": 4,
 "nbformat_minor": 2
}
