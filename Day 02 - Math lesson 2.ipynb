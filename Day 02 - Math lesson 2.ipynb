{
 "cells": [
  {
   "cell_type": "code",
   "execution_count": 5,
   "metadata": {},
   "outputs": [],
   "source": [
    "import matplotlib.pyplot as plt\n",
    "import matplotlib_venn as venn\n",
    "import random, math"
   ]
  },
  {
   "cell_type": "code",
   "execution_count": 6,
   "metadata": {},
   "outputs": [
    {
     "data": {
      "image/png": "[encoded data removed]",
      "text/plain": [
       "<Figure size 432x288 with 1 Axes>"
      ]
     },
     "metadata": {},
     "output_type": "display_data"
    }
   ],
   "source": [
    "U = {1,2,3,4,5,6}\n",
    "E = {1,2,3}\n",
    "\n",
    "venn.venn2([U,E], set_labels=('U','E'))\n",
    "plt.show()"
   ]
  },
  {
   "cell_type": "code",
   "execution_count": 11,
   "metadata": {},
   "outputs": [
    {
     "name": "stdout",
     "output_type": "stream",
     "text": [
      "P(both_girls[older]):  0.49886036468330136\n",
      "P(both_girls[older]):  0.499427423405324\n",
      "P(both_girls[older]):  0.5042338871498515\n",
      "P(both_girls[older]):  0.4978175556623418\n",
      "P(both_girls[older]):  0.49964100518548066\n",
      "P(both_girls[older]):  0.5007590890930883\n",
      "P(both_girls[older]):  0.4963726001042126\n",
      "P(both_girls[older]):  0.4954132091616421\n",
      "P(both_girls[older]):  0.4962650146411426\n",
      "P(both_girls[older]):  0.4934095253265371\n",
      "P(both_girls[older]):  0.5024678776252423\n",
      "P(both_girls[older]):  0.5028856558855357\n",
      "P(both_girls[older]):  0.5055837359905367\n",
      "P(both_girls[older]):  0.4975426771779904\n",
      "P(both_girls[older]):  0.49690664226461634\n",
      "P(both_girls[older]):  0.4985754985754986\n",
      "P(both_girls[older]):  0.5012379202939062\n",
      "P(both_girls[older]):  0.49905966147813213\n",
      "P(both_girls[older]):  0.5008363534987454\n",
      "P(both_girls[older]):  0.5035682337739787\n",
      "P(both_girls[older]):  0.5010458792358109\n",
      "P(both_girls[older]):  0.4980984767692215\n",
      "P(both_girls[older]):  0.49717649885858467\n",
      "P(both_girls[older]):  0.49886041025230915\n",
      "P(both_girls[older]):  0.499639855942377\n",
      "P(both_girls[older]):  0.5021251854525041\n",
      "P(both_girls[older]):  0.5019613337069208\n",
      "P(both_girls[older]):  0.49941327393146245\n",
      "P(both_girls[older]):  0.5005484096121249\n",
      "P(both_girls[older]):  0.4995423978353428\n",
      "P(both_girls[older]):  0.5023226013134711\n",
      "P(both_girls[older]):  0.4976852775671469\n",
      "P(both_girls[older]):  0.4985012171323958\n",
      "P(both_girls[older]):  0.501122559435513\n",
      "P(both_girls[older]):  0.5024839887472317\n",
      "P(both_girls[older]):  0.502731372042669\n",
      "P(both_girls[older]):  0.5002095181083508\n",
      "P(both_girls[older]):  0.49771488133418856\n",
      "P(both_girls[older]):  0.5019109554777389\n",
      "P(both_girls[older]):  0.49924863251117035\n",
      "P(both_girls[older]):  0.49646328023244163\n",
      "P(both_girls[older]):  0.49852234575099014\n",
      "P(both_girls[older]):  0.49673424548087486\n",
      "P(both_girls[older]):  0.49830306638880617\n",
      "P(both_girls[older]):  0.4971218420211065\n",
      "P(both_girls[older]):  0.49888463989802423\n",
      "P(both_girls[older]):  0.4992973580663294\n",
      "P(both_girls[older]):  0.500638111190875\n",
      "P(both_girls[older]):  0.49771253530652027\n",
      "P(both_girls[older]):  0.5009466865969108\n",
      "P(both_girls[older]):  0.49867680124161806\n",
      "P(both_girls[older]):  0.5004490211339281\n",
      "P(both_girls[older]):  0.502691924227318\n",
      "P(both_girls[older]):  0.49969289294842584\n",
      "P(both_girls[older]):  0.4967635284510745\n",
      "P(both_girls[older]):  0.49898832061221626\n",
      "P(both_girls[older]):  0.49875376363382584\n",
      "P(both_girls[older]):  0.5005714285714286\n",
      "P(both_girls[older]):  0.4955856034997017\n",
      "P(both_girls[older]):  0.49682269219204167\n",
      "P(both_girls[older]):  0.4991817347223885\n",
      "P(both_girls[older]):  0.5005809294871795\n",
      "P(both_girls[older]):  0.5055817563130559\n",
      "P(both_girls[older]):  0.49849458048976314\n",
      "P(both_girls[older]):  0.4977620777552536\n",
      "P(both_girls[older]):  0.4966713980128346\n",
      "P(both_girls[older]):  0.501671432598977\n",
      "P(both_girls[older]):  0.49847652648037527\n",
      "P(both_girls[older]):  0.49917835671342686\n",
      "P(both_girls[older]):  0.5029169663549908\n",
      "P(both_girls[older]):  0.5000602191978802\n",
      "P(both_girls[older]):  0.501300312074898\n",
      "P(both_girls[older]):  0.49783903284271747\n",
      "P(both_girls[older]):  0.5062997015403722\n",
      "P(both_girls[older]):  0.5006820187755757\n",
      "P(both_girls[older]):  0.49469376291451844\n",
      "P(both_girls[older]):  0.5034332272335996\n",
      "P(both_girls[older]):  0.49814424716621525\n",
      "P(both_girls[older]):  0.49948194787598627\n",
      "P(both_girls[older]):  0.498932370138293\n",
      "P(both_girls[older]):  0.499328320802005\n",
      "P(both_girls[older]):  0.49647484181982526\n",
      "P(both_girls[older]):  0.5008574619127383\n",
      "P(both_girls[older]):  0.5024295237330335\n",
      "P(both_girls[older]):  0.4980138531249376\n",
      "P(both_girls[older]):  0.4986044456938616\n",
      "P(both_girls[older]):  0.4992971040687633\n",
      "P(both_girls[older]):  0.49955855205072636\n",
      "P(both_girls[older]):  0.4996894969851159\n",
      "P(both_girls[older]):  0.4969896874441155\n",
      "P(both_girls[older]):  0.5031343253690093\n",
      "P(both_girls[older]):  0.5002398656752218\n",
      "P(both_girls[older]):  0.5015532962156056\n",
      "P(both_girls[older]):  0.499581356405247\n",
      "P(both_girls[older]):  0.5025555711450963\n",
      "P(both_girls[older]):  0.4969689694496129\n",
      "P(both_girls[older]):  0.5011619986376568\n",
      "P(both_girls[older]):  0.5028857715430862\n",
      "P(both_girls[older]):  0.5010695507886688\n"
     ]
    }
   ],
   "source": [
    "def random_kid():\n",
    "    return random.choice([\"boy\", \"girl\"])\n",
    " \n",
    "\n",
    "random.seed(0)\n",
    "for i in range(1,100, 1):\n",
    "    both_girls = 0\n",
    "    older_girl = 0\n",
    "    either_girl = 0\n",
    "    for _ in range(100000):\n",
    "        younger = random_kid()\n",
    "        older = random_kid()\n",
    "        if older == \"girl\":\n",
    "            older_girl += 1\n",
    "        if older == \"girl\" and younger == \"girl\":\n",
    "            both_girls += 1\n",
    "        \n",
    "    print(\"P(both_girls[older]): \", both_girls/older_girl)    "
   ]
  },
  {
   "cell_type": "code",
   "execution_count": null,
   "metadata": {},
   "outputs": [],
   "source": []
  }
 ],
 "metadata": {
  "kernelspec": {
   "display_name": "Python 3",
   "language": "python",
   "name": "python3"
  },
  "language_info": {
   "codemirror_mode": {
    "name": "ipython",
    "version": 3
   },
   "file_extension": ".py",
   "mimetype": "text/x-python",
   "name": "python",
   "nbconvert_exporter": "python",
   "pygments_lexer": "ipython3",
   "version": "3.6.5"
  }
 },
 "nbformat": 4,
 "nbformat_minor": 2
}
