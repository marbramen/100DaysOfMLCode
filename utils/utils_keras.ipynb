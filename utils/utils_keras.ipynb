{
 "cells": [
  {
   "cell_type": "code",
   "execution_count": 2,
   "metadata": {},
   "outputs": [
    {
     "name": "stdout",
     "output_type": "stream",
     "text": [
      "{'your': 8, 'is': 3, 'name': 2, 'faraway': 6, 'my': 4, 'asdasd': 7, 'far': 5, '<UNK>': 1}\n",
      "[[4, 2, 3, 1, 1, 1], [4, 2, 3], [1, 2, 3]]\n",
      "{'my': 3, 'far': 4, 'is': 2, 'name': 1, '<UNK>': 5}\n",
      "[[3, 1, 2, 4, 5, 5], [3, 1, 2], [5, 1, 2]]\n",
      "[[6, 3, 1, 2, 4, 5, 5, 7], [6, 3, 1, 2, 7], [6, 5, 1, 2, 7]]\n",
      "{'is': 2, 'name': 1, '<START>': 6, 'my': 3, 'far': 4, '<PAD>': 0, '<UNK>': 5, '<END>': 7}\n",
      "{0: '<PAD>', 1: 'name', 2: 'is', 3: 'my', 4: 'far', 5: '<UNK>', 6: '<START>', 7: '<END>'}\n",
      "[[0 0 6 3 1 2 4 5 5 7]\n",
      " [0 0 0 0 0 6 3 1 2 7]\n",
      " [0 0 0 0 0 6 5 1 2 7]]\n"
     ]
    }
   ],
   "source": [
    "from keras.preprocessing.text import Tokenizer\n",
    "from keras.preprocessing import sequence\n",
    "\n",
    "num_words = 4\n",
    "\n",
    "tk = Tokenizer(oov_token='<UNK>', num_words=num_words+1)\n",
    "texts = [\"my name is far faraway asdasd\", \"my name is\",\"your name is\"]\n",
    "tk.fit_on_texts(texts)\n",
    "print(tk.word_index)\n",
    "print(tk.texts_to_sequences(texts))\n",
    "tk.word_index = {e:i-1 for e,i in tk.word_index.items() if i <= num_words + 1 }\n",
    "tk.word_index['<UNK>'] = num_words + 1\n",
    "print(tk.word_index)\n",
    "text_token = tk.texts_to_sequences(texts)\n",
    "print(text_token)\n",
    "\n",
    "text_token = [ [num_words+2] + x + [num_words+3]  for x in text_token]\n",
    "print(text_token)\n",
    "\n",
    "word_to_id = {e:i for e,i in tk.word_index.items()}\n",
    "word_to_id[\"<PAD>\"] = 0\n",
    "word_to_id[\"<START>\"] = num_words + 2\n",
    "word_to_id[\"<END>\"] = num_words + 3\n",
    "print(word_to_id)\n",
    "\n",
    "id_to_word = {i:e for e,i in word_to_id.items()}\n",
    "print(id_to_word)\n",
    "\n",
    "text_token_pad = sequence.pad_sequences(text_token, 10)\n",
    "print(text_token_pad)"
   ]
  }
 ],
 "metadata": {
  "kernelspec": {
   "display_name": "Python (ml.tools)",
   "language": "python",
   "name": "ml.tools"
  },
  "language_info": {
   "codemirror_mode": {
    "name": "ipython",
    "version": 3
   },
   "file_extension": ".py",
   "mimetype": "text/x-python",
   "name": "python",
   "nbconvert_exporter": "python",
   "pygments_lexer": "ipython3",
   "version": "3.5.5"
  }
 },
 "nbformat": 4,
 "nbformat_minor": 2
}
