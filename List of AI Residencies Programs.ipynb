{
 "cells": [
  {
   "cell_type": "markdown",
   "metadata": {},
   "source": [
    "# List of AI Residencies Programs\n",
    "\n",
    "|Name | Deadline | URL   |\n",
    "|---|---|---|\n",
    "| Open AI - Summer Internship 2019  - Early\t| November 2, 2018 |\thttps://jobs.lever.co/openai/f9f7f8f3-90cc-41f3-a5b7-8692ab5da025 |\n",
    "| Google AI Residency Program\t | January 28, 2019 | https://careers.google.com/jobs#!t=jo&jid=/google/google-ai-resident-2019-start-fixed-term-yigal-alon-st-98-tel-aviv-yafo-israel-4438210683& |\n",
    "| Open AI - Summer Internship 2019  - (open at Nov/3/2019) |\t February 15, 2018 |\thttps://jobs.lever.co/openai/f9f7f8f3-90cc-41f3-a5b7-8692ab5da025 |\n",
    "| Facebook AI Research Residency Program (unopened) | December 29, 2018 |\thttps://research.fb.com/programs/facebook-ai-research-residency-program/ |\n",
    "| Uber AI Residency Program (unopened)\t| December 29, 2018\t| https://eng.uber.com/uber-ai-residency/ |\n",
    "| Microsoft AI Residency Program (aun no abierto) | December 29, 2018 |\thttps://www.microsoft.com/en-us/research/academic-program/microsoft-ai-residency-program/|  |\n",
    "\n",
    "\n",
    "\n",
    "Useful links:\n",
    "- [The easiest way to find Software Engineering Internships - Intern Suply](https://intern.supply/?available=true)\n"
   ]
  }
 ],
 "metadata": {
  "kernelspec": {
   "display_name": "Python (ml.tools)",
   "language": "python",
   "name": "ml.tools"
  },
  "language_info": {
   "codemirror_mode": {
    "name": "ipython",
    "version": 3
   },
   "file_extension": ".py",
   "mimetype": "text/x-python",
   "name": "python",
   "nbconvert_exporter": "python",
   "pygments_lexer": "ipython3",
   "version": "3.5.5"
  }
 },
 "nbformat": 4,
 "nbformat_minor": 2
}
